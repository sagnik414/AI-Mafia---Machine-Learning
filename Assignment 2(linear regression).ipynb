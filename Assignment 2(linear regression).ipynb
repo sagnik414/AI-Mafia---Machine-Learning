{
 "cells": [
  {
   "cell_type": "code",
   "execution_count": 300,
   "metadata": {},
   "outputs": [],
   "source": [
    "import numpy as np\n",
    "import pandas as pd\n",
    "import matplotlib.pyplot as plt"
   ]
  },
  {
   "cell_type": "code",
   "execution_count": 309,
   "metadata": {},
   "outputs": [
    {
     "name": "stdout",
     "output_type": "stream",
     "text": [
      "(6, 1600)\n"
     ]
    }
   ],
   "source": [
    "dfx = pd.read_csv('Train.csv')\n",
    "x1 = dfx['feature_1'].values\n",
    "x2 = dfx['feature_2'].values\n",
    "x3 = dfx['feature_3'].values\n",
    "x4 = dfx['feature_4'].values\n",
    "x5 = dfx['feature_5'].values\n",
    "\n",
    "x6 = np.ones((x5.shape[0],))\n",
    "\n",
    "x = np.vstack((x1,x2,x3,x4,x5,x6))\n",
    "print(x.shape)\n",
    "y = dfx['target'].values.reshape((-1))\n",
    "\n"
   ]
  },
  {
   "cell_type": "code",
   "execution_count": 311,
   "metadata": {},
   "outputs": [],
   "source": [
    "def hypothesis(x,theta):\n",
    "    return np.dot(theta,x)"
   ]
  },
  {
   "cell_type": "code",
   "execution_count": 312,
   "metadata": {},
   "outputs": [],
   "source": [
    "def error(x,y,theta):\n",
    "    \n",
    "    error = 0\n",
    "    for i in range(x.shape[1]):\n",
    "        X = x[:,i]\n",
    "        \n",
    "        error += (hypothesis(X,theta)-y[i])**2\n",
    "        \n",
    "    return error/(x.shape[1]*2)"
   ]
  },
  {
   "cell_type": "code",
   "execution_count": 314,
   "metadata": {},
   "outputs": [],
   "source": [
    "def gradient(x,y,theta):\n",
    "    grad = np.zeros((x.shape[0]))\n",
    "    \n",
    "    for i in range(x.shape[1]):\n",
    "        \n",
    "        X = x[:,i]\n",
    "        \n",
    "        for j in range(6):\n",
    "            \n",
    "            grad[j] += (hypothesis(X,theta)-y[i])*x[j][i]\n",
    "            \n",
    "    for i in range(6):\n",
    "        \n",
    "        grad[i] /=x.shape[1]\n",
    "        \n",
    "    return grad"
   ]
  },
  {
   "cell_type": "code",
   "execution_count": 327,
   "metadata": {},
   "outputs": [],
   "source": [
    "def gradientdescentalgo(x,y,learning_rate = 0.1):\n",
    "    error_list = []\n",
    "    theta_list = []\n",
    "    theta = np.zeros((6,))\n",
    "    \n",
    "    for i in range(100):\n",
    "        err = error(x,y,theta)\n",
    "        gra = gradient(x,y,theta)\n",
    "        \n",
    "        for j in range(6):\n",
    "            \n",
    "            theta[j] -=learning_rate*gra[j]\n",
    "        \n",
    "        error_list.append(err)\n",
    "        theta_list.append(theta)\n",
    "        \n",
    "    return error_list,theta_list,theta"
   ]
  },
  {
   "cell_type": "code",
   "execution_count": 328,
   "metadata": {},
   "outputs": [],
   "source": [
    "err,final_list,t = gradientdescentalgo(x,y)"
   ]
  },
  {
   "cell_type": "code",
   "execution_count": 329,
   "metadata": {},
   "outputs": [
    {
     "data": {
      "text/plain": [
       "[<matplotlib.lines.Line2D at 0x2117f318ac8>]"
      ]
     },
     "execution_count": 329,
     "metadata": {},
     "output_type": "execute_result"
    },
    {
     "data": {
      "image/png": "[encoded data removed]",
      "text/plain": [
       "<Figure size 432x288 with 1 Axes>"
      ]
     },
     "metadata": {
      "needs_background": "light"
     },
     "output_type": "display_data"
    }
   ],
   "source": [
    "plt.plot(err)"
   ]
  },
  {
   "cell_type": "code",
   "execution_count": null,
   "metadata": {},
   "outputs": [],
   "source": []
  },
  {
   "cell_type": "code",
   "execution_count": 365,
   "metadata": {},
   "outputs": [
    {
     "name": "stdout",
     "output_type": "stream",
     "text": [
      "(1600, 1)\n"
     ]
    }
   ],
   "source": [
    "dfx1 = pd.read_csv('Test.csv')\n",
    "x11 = dfx1['feature_1']\n",
    "x22 = dfx1['feature_2']\n",
    "x33 = dfx1['feature_3']\n",
    "x44 = dfx1['feature_4']\n",
    "x55 = dfx1['feature_5']\n",
    "\n",
    "x66 = np.ones((x5.shape[0],1))\n",
    "print(x66.shape)\n",
    "x77 = np.vstack((x1,x2,x3,x4,x5,x6))\n",
    "\n",
    "\n"
   ]
  },
  {
   "cell_type": "code",
   "execution_count": 353,
   "metadata": {},
   "outputs": [
    {
     "name": "stdout",
     "output_type": "stream",
     "text": [
      "[[ -57.87256821  -89.45778007   53.94992074 ... -115.66023345\n",
      "   -64.27953468 -116.1113846 ]\n",
      " [ -57.87256821  -89.45778007   53.94992074 ... -115.66023345\n",
      "   -64.27953468 -116.1113846 ]\n",
      " [ -57.87256821  -89.45778007   53.94992074 ... -115.66023345\n",
      "   -64.27953468 -116.1113846 ]\n",
      " ...\n",
      " [ -57.87256821  -89.45778007   53.94992074 ... -115.66023345\n",
      "   -64.27953468 -116.1113846 ]\n",
      " [ -57.87256821  -89.45778007   53.94992074 ... -115.66023345\n",
      "   -64.27953468 -116.1113846 ]\n",
      " [ -57.87256821  -89.45778007   53.94992074 ... -115.66023345\n",
      "   -64.27953468 -116.1113846 ]]\n"
     ]
    }
   ],
   "source": [
    "y1 = hypothesis(x77,final_list)\n",
    "print(y1)"
   ]
  },
  {
   "cell_type": "code",
   "execution_count": null,
   "metadata": {},
   "outputs": [],
   "source": []
  }
 ],
 "metadata": {
  "kernelspec": {
   "display_name": "Python 3",
   "language": "python",
   "name": "python3"
  },
  "language_info": {
   "codemirror_mode": {
    "name": "ipython",
    "version": 3
   },
   "file_extension": ".py",
   "mimetype": "text/x-python",
   "name": "python",
   "nbconvert_exporter": "python",
   "pygments_lexer": "ipython3",
   "version": "3.7.6"
  }
 },
 "nbformat": 4,
 "nbformat_minor": 4
}
