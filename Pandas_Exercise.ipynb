{
 "cells": [
  {
   "cell_type": "markdown",
   "metadata": {},
   "source": [
    "# <center>Introduction to Pandas</center>\n",
    "\n",
    "![](https://pandas.pydata.org/_static/pandas_logo.png)\n",
    "\n",
    "\n",
    "## Installation\n",
    "\n",
    "Simply,\n",
    "```\n",
    "pip install pandas\n",
    "```\n",
    "\n",
    "\n",
    "## Reading data from a CSV file\n",
    "\n",
    "You can read data from a CSV file using the ``read_csv`` function. By default, it assumes that the fields are comma-separated."
   ]
  },
  {
   "cell_type": "code",
   "execution_count": 10,
   "metadata": {},
   "outputs": [],
   "source": [
    "# import pandas\n",
    "import pandas as pd"
   ]
  },
  {
   "cell_type": "markdown",
   "metadata": {},
   "source": [
    ">The `imdb.csv` dataset contains Highest Rated IMDb \"Top 1000\" Titles.\n"
   ]
  },
  {
   "cell_type": "code",
   "execution_count": 15,
   "metadata": {},
   "outputs": [
    {
     "name": "stdout",
     "output_type": "stream",
     "text": [
      "                                                       title content_rating  \\\n",
      "star_rating                                                                   \n",
      "9.3                                 The Shawshank Redemption              R   \n",
      "9.2                                            The Godfather              R   \n",
      "9.1                                   The Godfather: Part II              R   \n",
      "9.0                                          The Dark Knight          PG-13   \n",
      "8.9                                             Pulp Fiction              R   \n",
      "...                                                      ...            ...   \n",
      "7.4                                                  Tootsie             PG   \n",
      "7.4                              Back to the Future Part III             PG   \n",
      "7.4          Master and Commander: The Far Side of the World          PG-13   \n",
      "7.4                                              Poltergeist             PG   \n",
      "7.4                                              Wall Street              R   \n",
      "\n",
      "                 genre  duration  \\\n",
      "star_rating                        \n",
      "9.3              Crime       142   \n",
      "9.2              Crime       175   \n",
      "9.1              Crime       200   \n",
      "9.0             Action       152   \n",
      "8.9              Crime       154   \n",
      "...                ...       ...   \n",
      "7.4             Comedy       116   \n",
      "7.4          Adventure       118   \n",
      "7.4             Action       138   \n",
      "7.4             Horror       114   \n",
      "7.4              Crime       126   \n",
      "\n",
      "                                                   actors_list  \n",
      "star_rating                                                     \n",
      "9.3          [u'Tim Robbins', u'Morgan Freeman', u'Bob Gunt...  \n",
      "9.2            [u'Marlon Brando', u'Al Pacino', u'James Caan']  \n",
      "9.1          [u'Al Pacino', u'Robert De Niro', u'Robert Duv...  \n",
      "9.0          [u'Christian Bale', u'Heath Ledger', u'Aaron E...  \n",
      "8.9          [u'John Travolta', u'Uma Thurman', u'Samuel L....  \n",
      "...                                                        ...  \n",
      "7.4          [u'Dustin Hoffman', u'Jessica Lange', u'Teri G...  \n",
      "7.4          [u'Michael J. Fox', u'Christopher Lloyd', u'Ma...  \n",
      "7.4          [u'Russell Crowe', u'Paul Bettany', u'Billy Bo...  \n",
      "7.4          [u'JoBeth Williams', u\"Heather O'Rourke\", u'Cr...  \n",
      "7.4          [u'Charlie Sheen', u'Michael Douglas', u'Tamar...  \n",
      "\n",
      "[979 rows x 5 columns]\n"
     ]
    }
   ],
   "source": [
    "# load imdb dataset as pandas dataframe\n",
    "import pandas as pd\n",
    "df =pd.read_csv('imdb_1000.csv',index_col=0)\n",
    "print(df)\n",
    "\n",
    "\n"
   ]
  },
  {
   "cell_type": "code",
   "execution_count": 18,
   "metadata": {},
   "outputs": [
    {
     "name": "stdout",
     "output_type": "stream",
     "text": [
      "                                title content_rating   genre  duration  \\\n",
      "star_rating                                                              \n",
      "9.3          The Shawshank Redemption              R   Crime       142   \n",
      "9.2                     The Godfather              R   Crime       175   \n",
      "9.1            The Godfather: Part II              R   Crime       200   \n",
      "9.0                   The Dark Knight          PG-13  Action       152   \n",
      "8.9                      Pulp Fiction              R   Crime       154   \n",
      "\n",
      "                                                   actors_list  \n",
      "star_rating                                                     \n",
      "9.3          [u'Tim Robbins', u'Morgan Freeman', u'Bob Gunt...  \n",
      "9.2            [u'Marlon Brando', u'Al Pacino', u'James Caan']  \n",
      "9.1          [u'Al Pacino', u'Robert De Niro', u'Robert Duv...  \n",
      "9.0          [u'Christian Bale', u'Heath Ledger', u'Aaron E...  \n",
      "8.9          [u'John Travolta', u'Uma Thurman', u'Samuel L....  \n"
     ]
    }
   ],
   "source": [
    "# show first 5 rows of imdb_df\n",
    "import pandas as pd\n",
    "df=pd.read_csv('imdb_1000.csv',index_col=0)\n",
    "df1 = df.head()\n",
    "print(df1)"
   ]
  },
  {
   "cell_type": "markdown",
   "metadata": {},
   "source": [
    ">The `bikes.csv` dataset contains information about the number of bicycles that used certain bicycle lanes in Montreal in the year 2012."
   ]
  },
  {
   "cell_type": "code",
   "execution_count": 19,
   "metadata": {},
   "outputs": [],
   "source": [
    "# load bikes dataset as pandas dataframe\n",
    "import pandas as pd\n",
    "df = pd.read_csv('bikes.csv',index_col=0)\n"
   ]
  },
  {
   "cell_type": "code",
   "execution_count": 23,
   "metadata": {},
   "outputs": [
    {
     "name": "stdout",
     "output_type": "stream",
     "text": [
      "Empty DataFrame\n",
      "Columns: []\n",
      "Index: [01/01/2012;00:00;16;35;51;38;5;26;10;0;27, 02/01/2012;00:00;43;83;153;68;11;53;6;1;21, 03/01/2012;00:00;58;135;248;104;2;89;3;2;15]\n"
     ]
    }
   ],
   "source": [
    "# show first 3 rows of bikes_df\n",
    "df1 = df.head(3)\n",
    "print(df1)"
   ]
  },
  {
   "cell_type": "markdown",
   "metadata": {},
   "source": [
    "## Selecting columns\n",
    "\n",
    "When you read a CSV, you get a kind of object called a DataFrame, which is made up of rows and columns. You get columns out of a DataFrame the same way you get elements out of a dictionary."
   ]
  },
  {
   "cell_type": "code",
   "execution_count": 24,
   "metadata": {},
   "outputs": [
    {
     "name": "stdout",
     "output_type": "stream",
     "text": [
      "title\n",
      "content_rating\n",
      "genre\n",
      "duration\n",
      "actors_list\n"
     ]
    }
   ],
   "source": [
    "# list columns of imdb_df\n",
    "import pandas as pd\n",
    "data = pd.read_csv('imdb_1000.csv',index_col=0)\n",
    "\n",
    "for i in data.columns:\n",
    "    print(i)"
   ]
  },
  {
   "cell_type": "code",
   "execution_count": 27,
   "metadata": {},
   "outputs": [
    {
     "name": "stdout",
     "output_type": "stream",
     "text": [
      "title             object\n",
      "content_rating    object\n",
      "genre             object\n",
      "duration           int64\n",
      "actors_list       object\n",
      "dtype: object\n"
     ]
    }
   ],
   "source": [
    "# what are the datatypes of values in columns\n",
    "import pandas as pd\n",
    "df = pd.read_csv('imdb_1000.csv',index_col=0)\n",
    "\n",
    "df1 = df.dtypes\n",
    "print(df1)"
   ]
  },
  {
   "cell_type": "code",
   "execution_count": 34,
   "metadata": {},
   "outputs": [
    {
     "name": "stdout",
     "output_type": "stream",
     "text": [
      "0    The Shawshank Redemption\n",
      "1               The Godfather\n",
      "2      The Godfather: Part II\n",
      "3             The Dark Knight\n",
      "4                Pulp Fiction\n",
      "Name: title, dtype: object\n"
     ]
    }
   ],
   "source": [
    "# list first 5 movie titles\n",
    "import pandas as pd\n",
    "df = pd.read_csv('imdb_1000.csv')\n",
    "\n",
    "df1 = df['title']\n",
    "print(df1.head())"
   ]
  },
  {
   "cell_type": "code",
   "execution_count": 48,
   "metadata": {},
   "outputs": [
    {
     "name": "stdout",
     "output_type": "stream",
     "text": [
      "                                               title      genre\n",
      "0                           The Shawshank Redemption      Crime\n",
      "1                                      The Godfather      Crime\n",
      "2                             The Godfather: Part II      Crime\n",
      "3                                    The Dark Knight     Action\n",
      "4                                       Pulp Fiction      Crime\n",
      "..                                               ...        ...\n",
      "974                                          Tootsie     Comedy\n",
      "975                      Back to the Future Part III  Adventure\n",
      "976  Master and Commander: The Far Side of the World     Action\n",
      "977                                      Poltergeist     Horror\n",
      "978                                      Wall Street      Crime\n",
      "\n",
      "[979 rows x 2 columns]\n"
     ]
    }
   ],
   "source": [
    "# show only movie title and genre\n",
    "\n",
    "import pandas as pd\n",
    "df = pd.read_csv('imdb_1000.csv')\n",
    "\n",
    "df1 = df[['title','genre']]\n",
    "print(df1)\n"
   ]
  },
  {
   "cell_type": "markdown",
   "metadata": {},
   "source": [
    "## Understanding columns\n",
    "\n",
    "On the inside, the type of a column is ``pd.Series`` and pandas Series are internally numpy arrays. If you add ``.values`` to the end of any Series, you'll get its internal **numpy array**."
   ]
  },
  {
   "cell_type": "code",
   "execution_count": 49,
   "metadata": {},
   "outputs": [
    {
     "name": "stdout",
     "output_type": "stream",
     "text": [
      "int64\n"
     ]
    }
   ],
   "source": [
    "# show the type of duration column\n",
    "import pandas as pd\n",
    "df = pd.read_csv('imdb_1000.csv')\n",
    "df1 = df['duration']\n",
    "print(df1.dtypes)"
   ]
  },
  {
   "cell_type": "code",
   "execution_count": 62,
   "metadata": {},
   "outputs": [
    {
     "data": {
      "text/plain": [
       "array([0      142\n",
       "1      175\n",
       "2      200\n",
       "3      152\n",
       "4      154\n",
       "      ... \n",
       "974    116\n",
       "975    118\n",
       "976    138\n",
       "977    114\n",
       "978    126\n",
       "Name: duration, Length: 979, dtype: int64], dtype=object)"
      ]
     },
     "execution_count": 62,
     "metadata": {},
     "output_type": "execute_result"
    }
   ],
   "source": [
    "# show duration values of movies as numpy arrays\n",
    "import numpy as np\n",
    "import pandas as pd\n",
    "\n",
    "df = pd.read_csv('imdb_1000.csv')\n",
    "pd.Series([df['duration']]).values\n",
    "\n"
   ]
  },
  {
   "cell_type": "markdown",
   "metadata": {},
   "source": [
    "## Applying functions to columns\n",
    "\n",
    "Use `.apply` function to apply any function to each element of a column."
   ]
  },
  {
   "cell_type": "code",
   "execution_count": 63,
   "metadata": {},
   "outputs": [
    {
     "data": {
      "text/plain": [
       "0                             THE SHAWSHANK REDEMPTION\n",
       "1                                        THE GODFATHER\n",
       "2                               THE GODFATHER: PART II\n",
       "3                                      THE DARK KNIGHT\n",
       "4                                         PULP FICTION\n",
       "                            ...                       \n",
       "974                                            TOOTSIE\n",
       "975                        BACK TO THE FUTURE PART III\n",
       "976    MASTER AND COMMANDER: THE FAR SIDE OF THE WORLD\n",
       "977                                        POLTERGEIST\n",
       "978                                        WALL STREET\n",
       "Name: title, Length: 979, dtype: object"
      ]
     },
     "execution_count": 63,
     "metadata": {},
     "output_type": "execute_result"
    }
   ],
   "source": [
    "# convert all the movie titles to uppercase\n",
    "import pandas as pd\n",
    "df = pd.read_csv('imdb_1000.csv')\n",
    "df['title'].apply(lambda x: x.upper())"
   ]
  },
  {
   "cell_type": "markdown",
   "metadata": {},
   "source": [
    "## Plotting a column\n",
    "\n",
    "Use ``.plot()`` function!"
   ]
  },
  {
   "cell_type": "code",
   "execution_count": 104,
   "metadata": {},
   "outputs": [
    {
     "data": {
      "text/plain": [
       "<matplotlib.axes._subplots.AxesSubplot at 0x21fb7daa988>"
      ]
     },
     "execution_count": 104,
     "metadata": {},
     "output_type": "execute_result"
    },
    {
     "data": {
      "image/png": "[encoded data removed]",
      "text/plain": [
       "<Figure size 432x288 with 1 Axes>"
      ]
     },
     "metadata": {
      "needs_background": "light"
     },
     "output_type": "display_data"
    }
   ],
   "source": [
    "# plot the bikers travelling to Berri1 over the year\n",
    "import pandas as pd\n",
    "import matplotlib.pyplot as plt\n",
    "\n",
    "df = pd.read_csv('bikes.csv', sep=';',index_col='Date')\n",
    "df['Berri1'].plot()\n"
   ]
  },
  {
   "cell_type": "code",
   "execution_count": 112,
   "metadata": {},
   "outputs": [
    {
     "data": {
      "image/png": "[encoded data removed]",
      "text/plain": [
       "<Figure size 720x720 with 1 Axes>"
      ]
     },
     "metadata": {
      "needs_background": "light"
     },
     "output_type": "display_data"
    }
   ],
   "source": [
    "# plot all the columns of bikes_df\n",
    "df.plot(figsize=(10,10))\n",
    "plt.show()"
   ]
  },
  {
   "cell_type": "markdown",
   "metadata": {},
   "source": [
    "## Value counts\n",
    "\n",
    "Get count of unique values in a particular column/Series."
   ]
  },
  {
   "cell_type": "code",
   "execution_count": 113,
   "metadata": {},
   "outputs": [
    {
     "data": {
      "text/plain": [
       "Drama        278\n",
       "Comedy       156\n",
       "Action       136\n",
       "Crime        124\n",
       "Biography     77\n",
       "Adventure     75\n",
       "Animation     62\n",
       "Horror        29\n",
       "Mystery       16\n",
       "Western        9\n",
       "Thriller       5\n",
       "Sci-Fi         5\n",
       "Film-Noir      3\n",
       "Family         2\n",
       "Fantasy        1\n",
       "History        1\n",
       "Name: genre, dtype: int64"
      ]
     },
     "execution_count": 113,
     "metadata": {},
     "output_type": "execute_result"
    }
   ],
   "source": [
    "# what are the unique genre in imdb_df?\n",
    "import pandas as pd\n",
    "df = pd.read_csv('imdb_1000.csv')\n",
    "pd.value_counts(df.genre)\n"
   ]
  },
  {
   "cell_type": "code",
   "execution_count": 135,
   "metadata": {},
   "outputs": [
    {
     "data": {
      "text/plain": [
       "<BarContainer object of 16 artists>"
      ]
     },
     "execution_count": 135,
     "metadata": {},
     "output_type": "execute_result"
    },
    {
     "data": {
      "image/png": "[encoded data removed]",
      "text/plain": [
       "<Figure size 432x288 with 1 Axes>"
      ]
     },
     "metadata": {
      "needs_background": "light"
     },
     "output_type": "display_data"
    }
   ],
   "source": [
    "# plotting value counts of unique genres as a bar chart\n",
    "import pandas as pd\n",
    "import matplotlib.pyplot as plt\n",
    "df = pd.read_csv('imdb_1000.csv')\n",
    "\n",
    "df1 = pd.value_counts(df.genre)\n",
    "plt.bar(df1,1,5)\n",
    "\n",
    "\n"
   ]
  },
  {
   "cell_type": "code",
   "execution_count": 136,
   "metadata": {},
   "outputs": [
    {
     "data": {
      "text/plain": [
       "([<matplotlib.patches.Wedge at 0x21fb6610c48>,\n",
       "  <matplotlib.patches.Wedge at 0x21fb3e5d588>,\n",
       "  <matplotlib.patches.Wedge at 0x21fb3e5dd08>,\n",
       "  <matplotlib.patches.Wedge at 0x21fb6efc908>,\n",
       "  <matplotlib.patches.Wedge at 0x21fb7f1d948>,\n",
       "  <matplotlib.patches.Wedge at 0x21fb6a2f2c8>,\n",
       "  <matplotlib.patches.Wedge at 0x21fb6a2f708>,\n",
       "  <matplotlib.patches.Wedge at 0x21fb6a2f788>,\n",
       "  <matplotlib.patches.Wedge at 0x21fb6efcf48>,\n",
       "  <matplotlib.patches.Wedge at 0x21faee74288>,\n",
       "  <matplotlib.patches.Wedge at 0x21fb6454a08>,\n",
       "  <matplotlib.patches.Wedge at 0x21fb5d01148>,\n",
       "  <matplotlib.patches.Wedge at 0x21fb5d01988>,\n",
       "  <matplotlib.patches.Wedge at 0x21fb4723b08>,\n",
       "  <matplotlib.patches.Wedge at 0x21fb7f24108>,\n",
       "  <matplotlib.patches.Wedge at 0x21fb7f24e88>],\n",
       " [Text(0.690559401763845, 0.856228773538685, ''),\n",
       "  Text(-0.7203468250294089, 0.8313245164615624, ''),\n",
       "  Text(-1.0964621095255178, -0.088152381560861, ''),\n",
       "  Text(-0.6711534366177855, -0.871523415931056, ''),\n",
       "  Text(-0.012354275373648511, -1.0999306213939097, ''),\n",
       "  Text(0.504572064539456, -0.9774492476268991, ''),\n",
       "  Text(0.872599162768846, -0.6697542094941316, ''),\n",
       "  Text(1.0284697334606816, -0.3901922697277776, ''),\n",
       "  Text(1.0739150063166638, -0.2381313906394535, ''),\n",
       "  Text(1.0895445082523985, -0.15130355097300066, ''),\n",
       "  Text(1.0952403048166697, -0.10221875906646853, ''),\n",
       "  Text(1.0979560559559636, -0.06702610826853214, ''),\n",
       "  Text(1.0993147704334387, -0.038820555210815164, ''),\n",
       "  Text(1.0997961156637863, -0.0211779123345034, ''),\n",
       "  Text(1.0999490280060602, -0.0105894187056497, ''),\n",
       "  Text(1.0999943365267277, -0.0035298171516920116, '')])"
      ]
     },
     "execution_count": 136,
     "metadata": {},
     "output_type": "execute_result"
    },
    {
     "data": {
      "image/png": "[encoded data removed]",
      "text/plain": [
       "<Figure size 432x288 with 1 Axes>"
      ]
     },
     "metadata": {},
     "output_type": "display_data"
    }
   ],
   "source": [
    "# plotting value counts of unique genres as a pie chart\n",
    "import pandas as pd\n",
    "import matplotlib.pyplot as plt\n",
    "df = pd.read_csv('imdb_1000.csv')\n",
    "df1 = pd.value_counts(df.genre)\n",
    "\n",
    "plt.pie(df1)\n",
    "\n",
    "\n"
   ]
  },
  {
   "cell_type": "markdown",
   "metadata": {},
   "source": [
    "## Index\n",
    "\n",
    "### DATAFRAME = COLUMNS + INDEX + ND DATA\n",
    "\n",
    "### SERIES = INDEX + 1-D DATA\n",
    "\n",
    "**Index** or (**row labels**) is one of the fundamental data structure of pandas. It can be thought of as an **immutable array** and an **ordered set**.\n",
    "\n",
    "> Every row is uniquely identified by its index value."
   ]
  },
  {
   "cell_type": "code",
   "execution_count": 138,
   "metadata": {},
   "outputs": [
    {
     "data": {
      "text/plain": [
       "[0,\n",
       " 1,\n",
       " 2,\n",
       " 3,\n",
       " 4,\n",
       " 5,\n",
       " 6,\n",
       " 7,\n",
       " 8,\n",
       " 9,\n",
       " 10,\n",
       " 11,\n",
       " 12,\n",
       " 13,\n",
       " 14,\n",
       " 15,\n",
       " 16,\n",
       " 17,\n",
       " 18,\n",
       " 19,\n",
       " 20,\n",
       " 21,\n",
       " 22,\n",
       " 23,\n",
       " 24,\n",
       " 25,\n",
       " 26,\n",
       " 27,\n",
       " 28,\n",
       " 29,\n",
       " 30,\n",
       " 31,\n",
       " 32,\n",
       " 33,\n",
       " 34,\n",
       " 35,\n",
       " 36,\n",
       " 37,\n",
       " 38,\n",
       " 39,\n",
       " 40,\n",
       " 41,\n",
       " 42,\n",
       " 43,\n",
       " 44,\n",
       " 45,\n",
       " 46,\n",
       " 47,\n",
       " 48,\n",
       " 49,\n",
       " 50,\n",
       " 51,\n",
       " 52,\n",
       " 53,\n",
       " 54,\n",
       " 55,\n",
       " 56,\n",
       " 57,\n",
       " 58,\n",
       " 59,\n",
       " 60,\n",
       " 61,\n",
       " 62,\n",
       " 63,\n",
       " 64,\n",
       " 65,\n",
       " 66,\n",
       " 67,\n",
       " 68,\n",
       " 69,\n",
       " 70,\n",
       " 71,\n",
       " 72,\n",
       " 73,\n",
       " 74,\n",
       " 75,\n",
       " 76,\n",
       " 77,\n",
       " 78,\n",
       " 79,\n",
       " 80,\n",
       " 81,\n",
       " 82,\n",
       " 83,\n",
       " 84,\n",
       " 85,\n",
       " 86,\n",
       " 87,\n",
       " 88,\n",
       " 89,\n",
       " 90,\n",
       " 91,\n",
       " 92,\n",
       " 93,\n",
       " 94,\n",
       " 95,\n",
       " 96,\n",
       " 97,\n",
       " 98,\n",
       " 99,\n",
       " 100,\n",
       " 101,\n",
       " 102,\n",
       " 103,\n",
       " 104,\n",
       " 105,\n",
       " 106,\n",
       " 107,\n",
       " 108,\n",
       " 109,\n",
       " 110,\n",
       " 111,\n",
       " 112,\n",
       " 113,\n",
       " 114,\n",
       " 115,\n",
       " 116,\n",
       " 117,\n",
       " 118,\n",
       " 119,\n",
       " 120,\n",
       " 121,\n",
       " 122,\n",
       " 123,\n",
       " 124,\n",
       " 125,\n",
       " 126,\n",
       " 127,\n",
       " 128,\n",
       " 129,\n",
       " 130,\n",
       " 131,\n",
       " 132,\n",
       " 133,\n",
       " 134,\n",
       " 135,\n",
       " 136,\n",
       " 137,\n",
       " 138,\n",
       " 139,\n",
       " 140,\n",
       " 141,\n",
       " 142,\n",
       " 143,\n",
       " 144,\n",
       " 145,\n",
       " 146,\n",
       " 147,\n",
       " 148,\n",
       " 149,\n",
       " 150,\n",
       " 151,\n",
       " 152,\n",
       " 153,\n",
       " 154,\n",
       " 155,\n",
       " 156,\n",
       " 157,\n",
       " 158,\n",
       " 159,\n",
       " 160,\n",
       " 161,\n",
       " 162,\n",
       " 163,\n",
       " 164,\n",
       " 165,\n",
       " 166,\n",
       " 167,\n",
       " 168,\n",
       " 169,\n",
       " 170,\n",
       " 171,\n",
       " 172,\n",
       " 173,\n",
       " 174,\n",
       " 175,\n",
       " 176,\n",
       " 177,\n",
       " 178,\n",
       " 179,\n",
       " 180,\n",
       " 181,\n",
       " 182,\n",
       " 183,\n",
       " 184,\n",
       " 185,\n",
       " 186,\n",
       " 187,\n",
       " 188,\n",
       " 189,\n",
       " 190,\n",
       " 191,\n",
       " 192,\n",
       " 193,\n",
       " 194,\n",
       " 195,\n",
       " 196,\n",
       " 197,\n",
       " 198,\n",
       " 199,\n",
       " 200,\n",
       " 201,\n",
       " 202,\n",
       " 203,\n",
       " 204,\n",
       " 205,\n",
       " 206,\n",
       " 207,\n",
       " 208,\n",
       " 209,\n",
       " 210,\n",
       " 211,\n",
       " 212,\n",
       " 213,\n",
       " 214,\n",
       " 215,\n",
       " 216,\n",
       " 217,\n",
       " 218,\n",
       " 219,\n",
       " 220,\n",
       " 221,\n",
       " 222,\n",
       " 223,\n",
       " 224,\n",
       " 225,\n",
       " 226,\n",
       " 227,\n",
       " 228,\n",
       " 229,\n",
       " 230,\n",
       " 231,\n",
       " 232,\n",
       " 233,\n",
       " 234,\n",
       " 235,\n",
       " 236,\n",
       " 237,\n",
       " 238,\n",
       " 239,\n",
       " 240,\n",
       " 241,\n",
       " 242,\n",
       " 243,\n",
       " 244,\n",
       " 245,\n",
       " 246,\n",
       " 247,\n",
       " 248,\n",
       " 249,\n",
       " 250,\n",
       " 251,\n",
       " 252,\n",
       " 253,\n",
       " 254,\n",
       " 255,\n",
       " 256,\n",
       " 257,\n",
       " 258,\n",
       " 259,\n",
       " 260,\n",
       " 261,\n",
       " 262,\n",
       " 263,\n",
       " 264,\n",
       " 265,\n",
       " 266,\n",
       " 267,\n",
       " 268,\n",
       " 269,\n",
       " 270,\n",
       " 271,\n",
       " 272,\n",
       " 273,\n",
       " 274,\n",
       " 275,\n",
       " 276,\n",
       " 277,\n",
       " 278,\n",
       " 279,\n",
       " 280,\n",
       " 281,\n",
       " 282,\n",
       " 283,\n",
       " 284,\n",
       " 285,\n",
       " 286,\n",
       " 287,\n",
       " 288,\n",
       " 289,\n",
       " 290,\n",
       " 291,\n",
       " 292,\n",
       " 293,\n",
       " 294,\n",
       " 295,\n",
       " 296,\n",
       " 297,\n",
       " 298,\n",
       " 299,\n",
       " 300,\n",
       " 301,\n",
       " 302,\n",
       " 303,\n",
       " 304,\n",
       " 305,\n",
       " 306,\n",
       " 307,\n",
       " 308,\n",
       " 309,\n",
       " 310,\n",
       " 311,\n",
       " 312,\n",
       " 313,\n",
       " 314,\n",
       " 315,\n",
       " 316,\n",
       " 317,\n",
       " 318,\n",
       " 319,\n",
       " 320,\n",
       " 321,\n",
       " 322,\n",
       " 323,\n",
       " 324,\n",
       " 325,\n",
       " 326,\n",
       " 327,\n",
       " 328,\n",
       " 329,\n",
       " 330,\n",
       " 331,\n",
       " 332,\n",
       " 333,\n",
       " 334,\n",
       " 335,\n",
       " 336,\n",
       " 337,\n",
       " 338,\n",
       " 339,\n",
       " 340,\n",
       " 341,\n",
       " 342,\n",
       " 343,\n",
       " 344,\n",
       " 345,\n",
       " 346,\n",
       " 347,\n",
       " 348,\n",
       " 349,\n",
       " 350,\n",
       " 351,\n",
       " 352,\n",
       " 353,\n",
       " 354,\n",
       " 355,\n",
       " 356,\n",
       " 357,\n",
       " 358,\n",
       " 359,\n",
       " 360,\n",
       " 361,\n",
       " 362,\n",
       " 363,\n",
       " 364,\n",
       " 365]"
      ]
     },
     "execution_count": 138,
     "metadata": {},
     "output_type": "execute_result"
    }
   ],
   "source": [
    "# show index of bikes_df\n",
    "import pandas as pd\n",
    "df = pd.read_csv('bikes.csv')\n",
    "\n",
    "\n",
    "list(df.index.values) \n",
    "\n"
   ]
  },
  {
   "cell_type": "code",
   "execution_count": 144,
   "metadata": {},
   "outputs": [],
   "source": [
    "# get row for date 2012-01-01\n",
    "\n",
    "\n"
   ]
  },
  {
   "cell_type": "markdown",
   "metadata": {},
   "source": [
    "#### To get row by integer index:\n",
    "\n",
    "Use ``.iloc[]`` for purely integer-location based indexing for selection by position."
   ]
  },
  {
   "cell_type": "code",
   "execution_count": null,
   "metadata": {},
   "outputs": [],
   "source": [
    "# show 11th row of imdb_df using iloc"
   ]
  },
  {
   "cell_type": "markdown",
   "metadata": {},
   "source": [
    "## Selecting rows where column has a particular value"
   ]
  },
  {
   "cell_type": "code",
   "execution_count": null,
   "metadata": {},
   "outputs": [],
   "source": [
    "# select only those movies where genre is adventure"
   ]
  },
  {
   "cell_type": "code",
   "execution_count": null,
   "metadata": {},
   "outputs": [],
   "source": [
    "# which genre has highest number of movies with star rating above 8 and duration more than 130 minutes?"
   ]
  },
  {
   "cell_type": "markdown",
   "metadata": {},
   "source": [
    "## Adding a new column to DataFrame"
   ]
  },
  {
   "cell_type": "code",
   "execution_count": null,
   "metadata": {},
   "outputs": [],
   "source": [
    "# add a weekday column to bikes_df"
   ]
  },
  {
   "cell_type": "markdown",
   "metadata": {},
   "source": [
    "## Deleting an existing column from DataFrame"
   ]
  },
  {
   "cell_type": "code",
   "execution_count": null,
   "metadata": {},
   "outputs": [],
   "source": [
    "# remove column 'Unnamed: 1' from bikes_df"
   ]
  },
  {
   "cell_type": "markdown",
   "metadata": {},
   "source": [
    "## Deleting a row in DataFrame"
   ]
  },
  {
   "cell_type": "code",
   "execution_count": null,
   "metadata": {},
   "outputs": [],
   "source": [
    "# remove row no. 1 from bikes_df"
   ]
  },
  {
   "cell_type": "markdown",
   "metadata": {},
   "source": [
    "## Group By\n",
    "\n",
    "Any groupby operation involves one of the following operations on the original object. They are −\n",
    "\n",
    "- Splitting the Object\n",
    "\n",
    "- Applying a function\n",
    "\n",
    "- Combining the results\n",
    "\n",
    "In many situations, we split the data into sets and we apply some functionality on each subset. In the apply functionality, we can perform the following operations −\n",
    "\n",
    "- **Aggregation** − computing a summary statistic\n",
    "\n",
    "- **Transformation** − perform some group-specific operation\n",
    "\n",
    "- **Filtration** − discarding the data with some condition"
   ]
  },
  {
   "cell_type": "code",
   "execution_count": null,
   "metadata": {},
   "outputs": [],
   "source": [
    "# group imdb_df by movie genres"
   ]
  },
  {
   "cell_type": "code",
   "execution_count": null,
   "metadata": {},
   "outputs": [],
   "source": [
    "# get crime movies group"
   ]
  },
  {
   "cell_type": "code",
   "execution_count": null,
   "metadata": {},
   "outputs": [],
   "source": [
    "# get mean of movie durations for each group"
   ]
  },
  {
   "cell_type": "code",
   "execution_count": null,
   "metadata": {},
   "outputs": [],
   "source": [
    "# change duration of all movies in a particular genre to mean duration of the group"
   ]
  },
  {
   "cell_type": "code",
   "execution_count": null,
   "metadata": {},
   "outputs": [],
   "source": [
    "# drop groups/genres that do not have average movie duration greater than 120."
   ]
  },
  {
   "cell_type": "code",
   "execution_count": null,
   "metadata": {},
   "outputs": [],
   "source": [
    "# group weekday wise bikers count"
   ]
  },
  {
   "cell_type": "code",
   "execution_count": null,
   "metadata": {},
   "outputs": [],
   "source": [
    "# get weekday wise biker count"
   ]
  },
  {
   "cell_type": "code",
   "execution_count": null,
   "metadata": {},
   "outputs": [],
   "source": [
    "# plot weekday wise biker count for 'Berri1'"
   ]
  },
  {
   "cell_type": "markdown",
   "metadata": {},
   "source": [
    "![](https://memegenerator.net/img/instances/500x/73988569/pythonpandas-is-easy-import-and-go.jpg)"
   ]
  }
 ],
 "metadata": {
  "kernelspec": {
   "display_name": "Python 3",
   "language": "python",
   "name": "python3"
  },
  "language_info": {
   "codemirror_mode": {
    "name": "ipython",
    "version": 3
   },
   "file_extension": ".py",
   "mimetype": "text/x-python",
   "name": "python",
   "nbconvert_exporter": "python",
   "pygments_lexer": "ipython3",
   "version": "3.7.6"
  }
 },
 "nbformat": 4,
 "nbformat_minor": 2
}
